{
 "cells": [
  {
   "cell_type": "markdown",
   "metadata": {},
   "source": [
    "# Popularity Analysis of Free-to-Play App Categories\n",
    "\n",
    "The goal of this project is to do a basic data analysis of the summary data available from the Google Play Store and the Apple iOS Mobile App Store. This project asks the question: 'If we create a free app, what category provides the best opportunity for it to be frequently installed?'. \n",
    "\n",
    "These datasets are available for download here:\n",
    "\n",
    " * [Google Play Store Apps](https://www.kaggle.com/lava18/google-play-store-apps/home)\n",
    " * [Apple iOS Store Apps](https://www.kaggle.com/ramamet4/app-store-apple-data-set-10k-apps/home)\n",
    " \n",
    "The basic steps are as follows:\n",
    "\n",
    " * Open the CSV files in the Python environment, do a cursory data exploration\n",
    " * Review dataset discussion links, check for errors, remove duplicates, remove all paid apps\n",
    " * Create frequency tables for average downloads per app by category, using reviews as a proxy\n",
    " * Research categories that could field a low production cost app, find the best option"
   ]
  },
  {
   "cell_type": "markdown",
   "metadata": {},
   "source": [
    "### Data Exploration"
   ]
  },
  {
   "cell_type": "code",
   "execution_count": 10,
   "metadata": {},
   "outputs": [],
   "source": [
    "from csv import reader\n",
    "opened_file = open('C:\\Datasets\\AppleStore.csv', 'r', encoding='mbcs')\n",
    "read_file = reader(opened_file)\n",
    "ios_data = list(read_file)\n",
    "ios_header = ios_data[0]\n",
    "ios_data = ios_data[1:]\n",
    "\n",
    "opened_file = open('C:\\Datasets\\googleplaystore.csv', 'r', encoding='mbcs')\n",
    "read_file = reader(opened_file)\n",
    "ggl_data = list(read_file)\n",
    "ggl_header = ggl_data[0]\n",
    "ggl_data = ggl_data[1:]"
   ]
  },
  {
   "cell_type": "code",
   "execution_count": 11,
   "metadata": {},
   "outputs": [],
   "source": [
    "# creates a function to view selected rows of the dataset\n",
    "# or to print the dimensions of the dataset \n",
    "# function assumes the data set does not have a header\n",
    "\n",
    "def explore_data(dataset, start, end, print_count=False):\n",
    "    data_slice = dataset[start:end]\n",
    "    for row in data_slice:\n",
    "        print(row)\n",
    "        print('\\n') # creates space between rows\n",
    "    if print_count:\n",
    "        print('Number of rows:', len(dataset))\n",
    "        print('Number of columns', len(dataset[0]))"
   ]
  },
  {
   "cell_type": "code",
   "execution_count": 12,
   "metadata": {},
   "outputs": [
    {
     "name": "stdout",
     "output_type": "stream",
     "text": [
      "['App', 'Category', 'Rating', 'Reviews', 'Size', 'Installs', 'Type', 'Price', 'Content Rating', 'Genres', 'Last Updated', 'Current Ver', 'Android Ver']\n",
      "[['Coloring book moana', 'ART_AND_DESIGN', '3.9', '967', '14M', '500,000+', 'Free', '0', 'Everyone', 'Art & Design;Pretend Play', 'January 15, 2018', '2.0.0', '4.0.3 and up'], ['U Launcher Lite â€“ FREE Live Cool Themes, Hide Apps', 'ART_AND_DESIGN', '4.7', '87510', '8.7M', '5,000,000+', 'Free', '0', 'Everyone', 'Art & Design', 'August 1, 2018', '1.2.4', '4.0.3 and up'], ['Sketch - Draw & Paint', 'ART_AND_DESIGN', '4.5', '215644', '25M', '50,000,000+', 'Free', '0', 'Teen', 'Art & Design', 'June 8, 2018', 'Varies with device', '4.2 and up'], ['Pixel Draw - Number Art Coloring Book', 'ART_AND_DESIGN', '4.3', '967', '2.8M', '100,000+', 'Free', '0', 'Everyone', 'Art & Design;Creativity', 'June 20, 2018', '1.1', '4.4 and up']]\n"
     ]
    }
   ],
   "source": [
    "print(ggl_header)\n",
    "print(ggl_data[1:5])"
   ]
  },
  {
   "cell_type": "code",
   "execution_count": 13,
   "metadata": {},
   "outputs": [
    {
     "name": "stdout",
     "output_type": "stream",
     "text": [
      "['', 'id', 'track_name', 'size_bytes', 'currency', 'price', 'rating_count_tot', 'rating_count_ver', 'user_rating', 'user_rating_ver', 'ver', 'cont_rating', 'prime_genre', 'sup_devices.num', 'ipadSc_urls.num', 'lang.num', 'vpp_lic']\n"
     ]
    }
   ],
   "source": [
    "print(ios_header)"
   ]
  },
  {
   "cell_type": "code",
   "execution_count": 14,
   "metadata": {},
   "outputs": [
    {
     "name": "stdout",
     "output_type": "stream",
     "text": [
      "['Photo Editor & Candy Camera & Grid & ScrapBook', 'ART_AND_DESIGN', '4.1', '159', '19M', '10,000+', 'Free', '0', 'Everyone', 'Art & Design', 'January 7, 2018', '1.0.0', '4.0.3 and up']\n",
      "\n",
      "\n",
      "['Coloring book moana', 'ART_AND_DESIGN', '3.9', '967', '14M', '500,000+', 'Free', '0', 'Everyone', 'Art & Design;Pretend Play', 'January 15, 2018', '2.0.0', '4.0.3 and up']\n",
      "\n",
      "\n",
      "Number of rows: 10841\n",
      "Number of columns 13\n"
     ]
    }
   ],
   "source": [
    "explore_data(ggl_data,0,2,print_count=True)"
   ]
  },
  {
   "cell_type": "code",
   "execution_count": 15,
   "metadata": {},
   "outputs": [
    {
     "name": "stdout",
     "output_type": "stream",
     "text": [
      "['1', '281656475', 'PAC-MAN Premium', '100788224', 'USD', '3.99', '21292', '26', '4', '4.5', '6.3.5', '4+', 'Games', '38', '5', '10', '1']\n",
      "\n",
      "\n",
      "['2', '281796108', 'Evernote - stay organized', '158578688', 'USD', '0', '161065', '26', '4', '3.5', '8.2.2', '4+', 'Productivity', '37', '5', '23', '1']\n",
      "\n",
      "\n",
      "Number of rows: 7197\n",
      "Number of columns 17\n"
     ]
    }
   ],
   "source": [
    "explore_data(ios_data,0,2,print_count=True)"
   ]
  },
  {
   "cell_type": "markdown",
   "metadata": {},
   "source": [
    "We've got a general idea about what these datasets contain, now we need to clean them up a bit."
   ]
  },
  {
   "cell_type": "markdown",
   "metadata": {},
   "source": [
    "### Data Cleaning"
   ]
  },
  {
   "cell_type": "markdown",
   "metadata": {},
   "source": [
    "After reading through the discussion pages connected to the datasets, it looks like there is one corrupted entry in the Google Play Store data set. We can check the length of the surrounding entries to confirm it is bad data, then remove it. "
   ]
  },
  {
   "cell_type": "code",
   "execution_count": 19,
   "metadata": {},
   "outputs": [
    {
     "name": "stdout",
     "output_type": "stream",
     "text": [
      "13\n",
      "13\n",
      "12\n",
      "13\n",
      "10841\n",
      "10840\n"
     ]
    }
   ],
   "source": [
    "print(len(ggl_data[10470]))\n",
    "print(len(ggl_data[10471]))\n",
    "print(len(ggl_data[10472]))\n",
    "print(len(ggl_data[10473]))\n",
    "\n",
    "print(len(ggl_data))\n",
    "del ggl_data[10472]\n",
    "print(len(ggl_data))"
   ]
  },
  {
   "cell_type": "markdown",
   "metadata": {},
   "source": [
    "The discussion page related to the Google Play Store data shows there are some duplicate entries in that data set. We need to check for duplicates and remove every duplicate entry except for the most recent. We can use the number of reviews to determine the most recent data point. We should also check the iOS App data as well, even though there is nothing in the discussion page."
   ]
  },
  {
   "cell_type": "code",
   "execution_count": 20,
   "metadata": {},
   "outputs": [
    {
     "name": "stdout",
     "output_type": "stream",
     "text": [
      "# of unique google apps:  9659\n",
      "# of duplicate google apps:  1181\n",
      "# of unique apple apps:  7197\n",
      "# of duplicate apple apps:  0\n"
     ]
    }
   ],
   "source": [
    "unique_apps_ggl = []\n",
    "duplicate_apps_ggl = []\n",
    "\n",
    "for i in ggl_data:\n",
    "    name = i[0]\n",
    "    if name in unique_apps_ggl:\n",
    "        duplicate_apps_ggl.append(name)\n",
    "    else:\n",
    "        unique_apps_ggl.append(name)\n",
    "        \n",
    "print('# of unique google apps: ', len(unique_apps_ggl))\n",
    "print('# of duplicate google apps: ', len(duplicate_apps_ggl))\n",
    "\n",
    "unique_apps_ios = []\n",
    "duplicate_apps_ios = []\n",
    "\n",
    "for i in ios_data:\n",
    "    name = i[0]\n",
    "    if name in unique_apps_ios:\n",
    "        duplicate_apps_ios.append(name)\n",
    "    else:\n",
    "        unique_apps_ios.append(name)\n",
    "        \n",
    "print('# of unique apple apps: ', len(unique_apps_ios))\n",
    "print('# of duplicate apple apps: ', len(duplicate_apps_ios))"
   ]
  },
  {
   "cell_type": "code",
   "execution_count": 21,
   "metadata": {},
   "outputs": [
    {
     "name": "stdout",
     "output_type": "stream",
     "text": [
      "['Facebook', 'SOCIAL', '4.1', '78158306', 'Varies with device', '1,000,000,000+', 'Free', '0', 'Teen', 'Social', 'August 3, 2018', 'Varies with device', 'Varies with device']\n",
      "['Facebook', 'SOCIAL', '4.1', '78128208', 'Varies with device', '1,000,000,000+', 'Free', '0', 'Teen', 'Social', 'August 3, 2018', 'Varies with device', 'Varies with device']\n"
     ]
    }
   ],
   "source": [
    "for i in ggl_data:\n",
    "    name = i[0]\n",
    "    if name == 'Facebook':\n",
    "        print(i)"
   ]
  },
  {
   "cell_type": "markdown",
   "metadata": {},
   "source": [
    "It appears only the Google data set contains duplicate entries. Printing a likely duplicate shows the only column that differs is the review count. Here the examples show: 78,158,306 & 78,128,208.\n",
    "\n",
    "Because there are 1,181 duplicate entries in the Google data set, after their removal the length of the data set should be reduced from 10,840 to 9,659."
   ]
  },
  {
   "cell_type": "code",
   "execution_count": 22,
   "metadata": {},
   "outputs": [
    {
     "name": "stdout",
     "output_type": "stream",
     "text": [
      "9659\n"
     ]
    }
   ],
   "source": [
    "reviews_max = {}\n",
    "\n",
    "for i in ggl_data:\n",
    "    name = i[0]\n",
    "    n_reviews = float(i[3])\n",
    "    if name in reviews_max and reviews_max[name] < n_reviews:\n",
    "        reviews_max[name] = n_reviews\n",
    "    elif name not in reviews_max:\n",
    "        reviews_max.update({name:n_reviews})\n",
    "        \n",
    "print(len(reviews_max))"
   ]
  },
  {
   "cell_type": "markdown",
   "metadata": {},
   "source": [
    "Above, we created a dictionary and added entries to the 'reviews_max' dictionary. If the name was already in the dictionary, the review count was updated to the higher amount. If they were not in the dictionary, we added the name and review count.\n",
    "\n",
    "Next, we can create a new, clean data set using an empty list and a 'ggl_added' list to check if we've already added the data. The two lists should be the same length to make sure we've added everything properly, and they should match our expected length."
   ]
  },
  {
   "cell_type": "code",
   "execution_count": 23,
   "metadata": {},
   "outputs": [
    {
     "name": "stdout",
     "output_type": "stream",
     "text": [
      "9659\n",
      "9659\n"
     ]
    }
   ],
   "source": [
    "ggl_clean = []\n",
    "ggl_added = []\n",
    "\n",
    "for i in ggl_data:\n",
    "    name = i[0]\n",
    "    n_reviews = float(i[3])\n",
    "    if n_reviews == reviews_max[name] and name not in ggl_added:\n",
    "        ggl_clean.append(i)\n",
    "        ggl_added.append(name)\n",
    "\n",
    "print(len(ggl_clean))\n",
    "print(len(ggl_added))"
   ]
  },
  {
   "cell_type": "markdown",
   "metadata": {},
   "source": [
    "Because there were no errors or duplicates in the iOS data, we can create a copy of that data set as our 'ios_clean' variable for further use."
   ]
  },
  {
   "cell_type": "code",
   "execution_count": 24,
   "metadata": {},
   "outputs": [],
   "source": [
    "ios_clean = ios_data"
   ]
  },
  {
   "cell_type": "markdown",
   "metadata": {
    "collapsed": true
   },
   "source": [
    "Both data sets also have apps that are not built primarily for English users. We want to remove these entries before doing further analysis. The easiest way to do this is to remove any row of data that has text symbols not used in English. \n",
    "\n",
    "In ASCII encoding, the range of commonly used English characters is 0 - 127. Some real apps may have a couple non-standard characters or emoji (🙄), so we only want to remove an entry if it contains more than three non-standard characters."
   ]
  },
  {
   "cell_type": "code",
   "execution_count": 25,
   "metadata": {},
   "outputs": [],
   "source": [
    "def char_check(string):\n",
    "    error_count = 0\n",
    "    for char in string:\n",
    "        if ord(char) > 127:\n",
    "            error_count +=1\n",
    "            if error_count > 3:\n",
    "                return False\n",
    "    return True"
   ]
  },
  {
   "cell_type": "code",
   "execution_count": 26,
   "metadata": {},
   "outputs": [
    {
     "name": "stdout",
     "output_type": "stream",
     "text": [
      "9659\n",
      "7197\n"
     ]
    }
   ],
   "source": [
    "print(len(ggl_clean))\n",
    "print(len(ios_clean))"
   ]
  },
  {
   "cell_type": "code",
   "execution_count": 27,
   "metadata": {},
   "outputs": [
    {
     "name": "stdout",
     "output_type": "stream",
     "text": [
      "6100\n",
      "9500\n"
     ]
    }
   ],
   "source": [
    "ios_english = []\n",
    "ggl_english = []\n",
    "\n",
    "for row in ggl_clean:\n",
    "    name = row[0]\n",
    "    if char_check(name) == True:\n",
    "        ggl_english.append(row)\n",
    "        \n",
    "for row in ios_clean:\n",
    "    name = row[2]\n",
    "    if char_check(name) == True:\n",
    "        ios_english.append(row)\n",
    "        \n",
    "print(len(ios_english))\n",
    "print(len(ggl_english))"
   ]
  },
  {
   "cell_type": "markdown",
   "metadata": {},
   "source": [
    "Lastly, we want to isolate all the free apps to be our final data set."
   ]
  },
  {
   "cell_type": "code",
   "execution_count": 33,
   "metadata": {},
   "outputs": [
    {
     "name": "stdout",
     "output_type": "stream",
     "text": [
      "3169\n",
      "8759\n"
     ]
    }
   ],
   "source": [
    "ios_free = []\n",
    "ggl_free = []\n",
    "\n",
    "for row in ggl_english:\n",
    "    price = row[6]\n",
    "    if price == 'Free':\n",
    "        ggl_free.append(row)\n",
    "        \n",
    "for row in ios_english:\n",
    "    price = row[5]\n",
    "    if price == '0':\n",
    "        ios_free.append(row)\n",
    "        \n",
    "print(len(ios_free))\n",
    "print(len(ggl_free))"
   ]
  },
  {
   "cell_type": "markdown",
   "metadata": {},
   "source": [
    "We should now have two data sets. Each containing the free iOS and Google Play apps that are now free from errors, duplicates, non-English apps."
   ]
  },
  {
   "cell_type": "markdown",
   "metadata": {
    "collapsed": true
   },
   "source": [
    "### App Optimization - Frequency Tables"
   ]
  },
  {
   "cell_type": "markdown",
   "metadata": {},
   "source": [
    "To optimize an app, we need to figure out what works in the app stores. Below, we build frequency tables for a few data categories. Specifically, the 'Genres' and 'Category' columns from the Google Play data set."
   ]
  },
  {
   "cell_type": "code",
   "execution_count": 34,
   "metadata": {},
   "outputs": [],
   "source": [
    "def freq_table(dataset, index):\n",
    "    freq_dict = {}\n",
    "    percent_dict = {}\n",
    "    num_entries = 0\n",
    "\n",
    "    for row in dataset:\n",
    "        num_entries += 1\n",
    "        if row[index] in freq_dict:\n",
    "            freq_dict[row[index]] += 1\n",
    "        else:\n",
    "            freq_dict[row[index]] = 1\n",
    "            \n",
    "    for i in freq_dict:\n",
    "        percent = (float(freq_dict[i]) / num_entries)\n",
    "        percent_dict[i] = percent * 100\n",
    "    return percent_dict"
   ]
  },
  {
   "cell_type": "markdown",
   "metadata": {},
   "source": [
    "Next we need to view the frequency table in decending order."
   ]
  },
  {
   "cell_type": "code",
   "execution_count": 35,
   "metadata": {},
   "outputs": [],
   "source": [
    "def display_table(dataset, index):\n",
    "    table = freq_table(dataset, index)\n",
    "    table_disp = []\n",
    "    for key in table:\n",
    "        new_tuple = (table[key], key)\n",
    "        table_disp.append(new_tuple)\n",
    "        \n",
    "    table_sorted = sorted(table_disp, reverse = True)\n",
    "    for i in table_sorted:\n",
    "        print(i)"
   ]
  },
  {
   "cell_type": "markdown",
   "metadata": {},
   "source": [
    "Lets look at some summary data:"
   ]
  },
  {
   "cell_type": "code",
   "execution_count": 36,
   "metadata": {},
   "outputs": [
    {
     "name": "stdout",
     "output_type": "stream",
     "text": [
      "(18.929101495604524, 'FAMILY')\n",
      "(9.658636830688435, 'GAME')\n",
      "(8.48270350496632, 'TOOLS')\n",
      "(4.646649160863112, 'BUSINESS')\n",
      "(3.9388057997488297, 'PRODUCTIVITY')\n",
      "(3.9159721429386916, 'LIFESTYLE')\n",
      "(3.721886060052517, 'FINANCE')\n",
      "(3.5506336339764815, 'MEDICAL')\n",
      "(3.3337138942801694, 'SPORTS')\n",
      "(3.288046580659892, 'PERSONALIZATION')\n",
      "(3.2537960954446854, 'COMMUNICATION')\n",
      "(3.0939604977737187, 'HEALTH_AND_FITNESS')\n",
      "(2.9797922137230275, 'PHOTOGRAPHY')\n",
      "(2.8085397876469917, 'NEWS_AND_MAGAZINES')\n",
      "(2.6487041899760246, 'SOCIAL')\n",
      "(2.34044982303916, 'TRAVEL_AND_LOCAL')\n",
      "(2.249115195798607, 'SHOPPING')\n",
      "(2.1463637401529856, 'BOOKS_AND_REFERENCE')\n",
      "(1.8609430300262586, 'DATING')\n",
      "(1.8038588880009132, 'VIDEO_PLAYERS')\n",
      "(1.3814362370133577, 'MAPS_AND_NAVIGATION')\n",
      "(1.23301746774746, 'FOOD_AND_DRINK')\n",
      "(1.1759333257221143, 'EDUCATION')\n",
      "(0.9590135860258021, 'ENTERTAINMENT')\n",
      "(0.9247631008105948, 'AUTO_AND_VEHICLES')\n",
      "(0.9019294440004566, 'LIBRARIES_AND_DEMO')\n",
      "(0.7877611599497659, 'WEATHER')\n",
      "(0.7877611599497659, 'HOUSE_AND_HOME')\n",
      "(0.7192601895193516, 'EVENTS')\n",
      "(0.6507592190889371, 'ART_AND_DESIGN')\n",
      "(0.639342390683868, 'PARENTING')\n",
      "(0.6050919054686608, 'BEAUTY')\n",
      "(0.5822582486585227, 'COMICS')\n"
     ]
    }
   ],
   "source": [
    "display_table(ggl_free, 1)\n",
    "# Google Play 'Category' column"
   ]
  },
  {
   "cell_type": "code",
   "execution_count": 37,
   "metadata": {},
   "outputs": [
    {
     "name": "stdout",
     "output_type": "stream",
     "text": [
      "(58.53581571473651, 'Games')\n",
      "(7.82581255916693, 'Entertainment')\n",
      "(5.0489113284947935, 'Photo & Video')\n",
      "(3.72357210476491, 'Education')\n",
      "(3.2817923635216157, 'Social Networking')\n",
      "(2.5244556642473968, 'Shopping')\n",
      "(2.398232881035027, 'Utilities')\n",
      "(2.1773430104133795, 'Sports')\n",
      "(2.0511202272010096, 'Music')\n",
      "(1.9880088355948247, 'Health & Fitness')\n",
      "(1.7040075733669928, 'Productivity')\n",
      "(1.5462290943515304, 'Lifestyle')\n",
      "(1.3253392237298833, 'News')\n",
      "(1.1360050489113285, 'Travel')\n",
      "(1.1044493531082362, 'Finance')\n",
      "(0.8520037866834964, 'Weather')\n",
      "(0.8204480908804039, 'Food & Drink')\n",
      "(0.5364468286525718, 'Reference')\n",
      "(0.5364468286525718, 'Business')\n",
      "(0.3786683496371095, 'Book')\n",
      "(0.18933417481855475, 'Navigation')\n",
      "(0.18933417481855475, 'Medical')\n",
      "(0.12622278321236985, 'Catalogs')\n"
     ]
    }
   ],
   "source": [
    "display_table(ios_free, -5)\n",
    "#iOS 'prime_genre' column"
   ]
  },
  {
   "cell_type": "markdown",
   "metadata": {},
   "source": [
    "It seems like games and entertainment apps are the most popular in both the iOS and Google Play store. Practical applications less so. However, all we've done is reveal the most commonly published apps, not the ones with the most users. We can find out the average number of downloads per category to draw a better conclusion.\n",
    "\n",
    "The iOS store doesn't list a download count, and the Google Play store only lists ranges, so we're going to use the number of ratings as a proxy."
   ]
  },
  {
   "cell_type": "code",
   "execution_count": 40,
   "metadata": {},
   "outputs": [
    {
     "name": "stdout",
     "output_type": "stream",
     "text": [
      "Productivity : 21799\n",
      "Weather : 54215\n",
      "Shopping : 27816\n",
      "Reference : 79350\n",
      "Finance : 32367\n",
      "Music : 58205\n",
      "Utilities : 19900\n",
      "Travel : 31358\n",
      "Social Networking : 72917\n",
      "Sports : 23009\n",
      "Health & Fitness : 24038\n",
      "Games : 22985\n",
      "Food & Drink : 33334\n",
      "News : 21750\n",
      "Book : 46385\n",
      "Photo & Video : 28442\n",
      "Entertainment : 14365\n",
      "Business : 7491\n",
      "Lifestyle : 16739\n",
      "Education : 7004\n",
      "Navigation : 86090\n",
      "Medical : 612\n",
      "Catalogs : 4004\n"
     ]
    }
   ],
   "source": [
    "ios_genres = freq_table(ios_free, -5)\n",
    "\n",
    "for genre in ios_genres:\n",
    "    sum_installs = 0\n",
    "    num_apps = 0\n",
    "    for row in ios_free:\n",
    "        if row[-5] == genre:\n",
    "            installs = float(row[6])\n",
    "            sum_installs += installs\n",
    "            num_apps += 1\n",
    "    avg_installs = (sum_installs / num_apps)\n",
    "    print(genre,\":\",round(avg_installs))"
   ]
  },
  {
   "cell_type": "code",
   "execution_count": 41,
   "metadata": {},
   "outputs": [
    {
     "name": "stdout",
     "output_type": "stream",
     "text": [
      "ART_AND_DESIGN : 24699\n",
      "AUTO_AND_VEHICLES : 14218\n",
      "BEAUTY : 7476\n",
      "BOOKS_AND_REFERENCE : 73425\n",
      "BUSINESS : 24240\n",
      "COMICS : 45617\n",
      "COMMUNICATION : 993784\n",
      "DATING : 22207\n",
      "EDUCATION : 56293\n",
      "ENTERTAINMENT : 305206\n",
      "EVENTS : 2556\n",
      "FINANCE : 37601\n",
      "FOOD_AND_DRINK : 58483\n",
      "HEALTH_AND_FITNESS : 78671\n",
      "HOUSE_AND_HOME : 27812\n",
      "LIBRARIES_AND_DEMO : 10564\n",
      "LIFESTYLE : 34075\n",
      "GAME : 691572\n",
      "FAMILY : 114156\n",
      "MEDICAL : 3753\n",
      "SOCIAL : 982038\n",
      "SHOPPING : 226042\n",
      "PHOTOGRAPHY : 404081\n",
      "SPORTS : 120526\n",
      "TRAVEL_AND_LOCAL : 130746\n",
      "TOOLS : 308587\n",
      "PERSONALIZATION : 182427\n",
      "PRODUCTIVITY : 160635\n",
      "PARENTING : 16913\n",
      "WEATHER : 175771\n",
      "VIDEO_PLAYERS : 427904\n",
      "NEWS_AND_MAGAZINES : 93842\n",
      "MAPS_AND_NAVIGATION : 145979\n"
     ]
    }
   ],
   "source": [
    "ggl_genres = freq_table(ggl_free, 1)\n",
    "\n",
    "for genre in ggl_genres:\n",
    "    sum_installs = 0\n",
    "    num_apps = 0\n",
    "    for row in ggl_free:\n",
    "        if row[1] == genre:\n",
    "            installs = float(row[3])\n",
    "            sum_installs += installs\n",
    "            num_apps += 1\n",
    "    avg_installs = (sum_installs / num_apps)\n",
    "    print(genre,\":\",round(avg_installs))"
   ]
  },
  {
   "cell_type": "markdown",
   "metadata": {},
   "source": [
    "Another method for the Google Play store is to use the downloads numbers as they are and check against our previous results using the ratings."
   ]
  },
  {
   "cell_type": "code",
   "execution_count": 42,
   "metadata": {},
   "outputs": [
    {
     "name": "stdout",
     "output_type": "stream",
     "text": [
      "ART_AND_DESIGN : 1986335\n",
      "AUTO_AND_VEHICLES : 654075\n",
      "BEAUTY : 513152\n",
      "BOOKS_AND_REFERENCE : 8329169\n",
      "BUSINESS : 1712290\n",
      "COMICS : 859042\n",
      "COMMUNICATION : 38550548\n",
      "DATING : 861410\n",
      "EDUCATION : 1833495\n",
      "ENTERTAINMENT : 11767381\n",
      "EVENTS : 253542\n",
      "FINANCE : 1365500\n",
      "FOOD_AND_DRINK : 1951284\n",
      "HEALTH_AND_FITNESS : 4219697\n",
      "HOUSE_AND_HOME : 1385541\n",
      "LIBRARIES_AND_DEMO : 649314\n",
      "LIFESTYLE : 1447459\n",
      "GAME : 15571587\n",
      "FAMILY : 3718295\n",
      "MEDICAL : 121162\n",
      "SOCIAL : 23628689\n",
      "SHOPPING : 7103191\n",
      "PHOTOGRAPHY : 17840110\n",
      "SPORTS : 3750581\n",
      "TRAVEL_AND_LOCAL : 14120454\n",
      "TOOLS : 10902379\n",
      "PERSONALIZATION : 5240359\n",
      "PRODUCTIVITY : 16787331\n",
      "PARENTING : 552875\n",
      "WEATHER : 5212877\n",
      "VIDEO_PLAYERS : 24878049\n",
      "NEWS_AND_MAGAZINES : 9626407\n",
      "MAPS_AND_NAVIGATION : 4115374\n"
     ]
    }
   ],
   "source": [
    "ggl_genres = freq_table(ggl_free, 1)\n",
    "\n",
    "for genre in ggl_genres:\n",
    "    sum_installs = 0\n",
    "    num_apps = 0\n",
    "    for row in ggl_free:\n",
    "        if row[1] == genre:\n",
    "            installs = row[5]\n",
    "            installs = installs.replace('+','')\n",
    "            installs = installs.replace(',','')\n",
    "            sum_installs += int(installs)\n",
    "            num_apps += 1\n",
    "    avg_installs = (sum_installs / num_apps)\n",
    "    print(genre,\":\",round(avg_installs))"
   ]
  },
  {
   "cell_type": "markdown",
   "metadata": {},
   "source": [
    "This generally confirms the previous analysis. The download numbers are different, but the general order and relative magnitude are the same as our data table that used reviews as a proxy.\n",
    "\n",
    "Let's take a look at the most popular apps in a couple categories."
   ]
  },
  {
   "cell_type": "markdown",
   "metadata": {},
   "source": [
    "### Category Analysis\n",
    "\n",
    "Again, for the Google Play Store there are two ways to go about finding the most popular apps in each category."
   ]
  },
  {
   "cell_type": "code",
   "execution_count": 43,
   "metadata": {},
   "outputs": [
    {
     "name": "stdout",
     "output_type": "stream",
     "text": [
      "WhatsApp Messenger : 1,000,000,000+\n",
      "Messenger â€“ Text and Video Chat for Free : 1,000,000,000+\n",
      "Skype - free IM & video calls : 1,000,000,000+\n",
      "Google Chrome: Fast & Secure : 1,000,000,000+\n",
      "Gmail : 1,000,000,000+\n",
      "Hangouts : 1,000,000,000+\n"
     ]
    }
   ],
   "source": [
    "for app in ggl_free:\n",
    "    if app[1] == 'COMMUNICATION' and (app[5] == '1,000,000,000+'\n",
    "                                or app[5] == '500,000,000'\n",
    "                                or app[5] == '100,000,000'):\n",
    "        print(app[0],':',app[5])"
   ]
  },
  {
   "cell_type": "code",
   "execution_count": 44,
   "metadata": {},
   "outputs": [
    {
     "name": "stdout",
     "output_type": "stream",
     "text": [
      "WhatsApp Messenger : 69119316\n",
      "Messenger â€“ Text and Video Chat for Free : 56646578\n",
      "Skype - free IM & video calls : 10484169\n",
      "LINE: Free Calls & Messages : 10790289\n",
      "UC Browser - Fast Download Private & Secure : 17714850\n",
      "Viber Messenger : 11335481\n",
      "BBM - Free Calls & Messages : 12843436\n"
     ]
    }
   ],
   "source": [
    "for app in ggl_free:\n",
    "    if app[1] == 'COMMUNICATION' and int(app[3]) > 10000000:\n",
    "        print(app[0],':',app[3])\n",
    "    "
   ]
  },
  {
   "cell_type": "markdown",
   "metadata": {},
   "source": [
    "The above two sections attempt to pull the most popular apps in the Communication category. What we see is there are some Google apps that have a lot of downloads, but do not have as many total reviews as some other apps. This could be due to them being automatic downloads by the phone manufacturer or retailer.\n",
    "\n",
    "Either way, Communication apps seems like a crowded and highly competitive market."
   ]
  },
  {
   "cell_type": "code",
   "execution_count": 45,
   "metadata": {},
   "outputs": [
    {
     "name": "stdout",
     "output_type": "stream",
     "text": [
      "K PLUS : 10,000,000+\n",
      "Mobile Bancomer : 10,000,000+\n",
      "CASHIER : 10,000,000+\n",
      "Itau bank : 10,000,000+\n",
      "Cash App : 10,000,000+\n",
      "Bank of Brazil : 10,000,000+\n",
      "PayPal : 50,000,000+\n",
      "Bank of America Mobile Banking : 10,000,000+\n",
      "Wells Fargo Mobile : 10,000,000+\n",
      "Capital OneÂ® Mobile : 10,000,000+\n",
      "Chase Mobile : 10,000,000+\n",
      "HDFC Bank MobileBanking : 10,000,000+\n",
      "Google Pay : 100,000,000+\n",
      "Credit Karma : 10,000,000+\n",
      "===================================\n",
      "K PLUS : 124424\n",
      "Mobile Bancomer : 278082\n",
      "SCB EASY : 112656\n",
      "CASHIER : 335738\n",
      "Itau bank : 957973\n",
      "Nubank : 130582\n",
      "IKO : 167168\n",
      "VTB-Online : 138371\n",
      "Banorte Movil : 111632\n",
      "TrueMoney Wallet : 199684\n",
      "Bank of Brazil : 1336246\n",
      "Money Manager Expense & Budget : 134564\n",
      "Monefy - Money Manager : 111254\n",
      "Mobills: Budget Planner : 161440\n",
      "MetaTrader 4 : 260547\n",
      "Stocks, Forex, Bitcoin, Ethereum: Portfolio & News : 157505\n",
      "Yahoo Finance : 135952\n",
      "Money Lover: Expense Tracker, Budget Planner : 126447\n",
      "PayPal : 659760\n",
      "USAA Mobile : 100997\n",
      "Bank of America Mobile Banking : 341090\n",
      "Wells Fargo Mobile : 250719\n",
      "Capital OneÂ® Mobile : 510401\n",
      "Chase Mobile : 1374549\n",
      "HDFC Bank MobileBanking : 208463\n",
      "Google Pay : 348132\n",
      "Mint: Budget, Bills, Finance : 129305\n",
      "Credit Karma : 706618\n",
      "Moneycontrol â€“ Stocks, Sensex, Mutual Funds, IPO : 281635\n"
     ]
    }
   ],
   "source": [
    "for app in ggl_free:\n",
    "    if app[1] == 'FINANCE' and (app[5] == '100,000,000+'\n",
    "                                or app[5] == '50,000,000+'\n",
    "                                or app[5] == '10,000,000+'):        print(app[0],':',app[5])\n",
    "\n",
    "print(\"===================================\")\n",
    "\n",
    "for app in ggl_free:\n",
    "    if app[1] == 'FINANCE' and int(app[3]) > 100000:\n",
    "        print(app[0],':',app[3])"
   ]
  },
  {
   "cell_type": "markdown",
   "metadata": {},
   "source": [
    "Finance apps seem to be mostly banking apps of similar popularities. Without a connected banking operations, it seems unlikely we could develop a low-cost finance app (such as a retirement planner) that would be highly downloaded."
   ]
  },
  {
   "cell_type": "code",
   "execution_count": 46,
   "metadata": {},
   "outputs": [
    {
     "name": "stdout",
     "output_type": "stream",
     "text": [
      "Fox News â€“ Breaking News, Live Video & News Alerts : 10,000,000+\n",
      "NEW - Read Newspaper, News 24h : 10,000,000+\n",
      "BBC News : 10,000,000+\n",
      "CNN Breaking US & World News : 10,000,000+\n",
      "BaBe - Read News : 10,000,000+\n",
      "detikcom - Latest & Most Complete News : 10,000,000+\n",
      "Dailyhunt (Newshunt) - Latest News, Viral Videos : 50,000,000+\n",
      "Read- Latest News, Information, Gossip and Politics : 10,000,000+\n",
      "Reddit: Social News, Trending Memes & Funny Videos : 10,000,000+\n",
      "Opera News - Trending news and videos : 10,000,000+\n",
      "Topbuzz: Breaking News, Videos & Funny GIFs : 10,000,000+\n",
      "Pulse Nabd - World News, Urgent : 10,000,000+\n",
      "NYTimes - Latest News : 10,000,000+\n",
      "Bloomberg: Market & Financial News : 10,000,000+\n",
      "News Republic : 10,000,000+\n",
      "Newsroom: News Worth Sharing : 10,000,000+\n",
      "SmartNews: Breaking News Headlines : 10,000,000+\n",
      "Updates for Samsung - Android Update Versions : 10,000,000+\n",
      "Pocket : 10,000,000+\n",
      "NewsDog - Latest News, Breaking News, Local News : 10,000,000+\n",
      "News by The Times of India Newspaper - Latest News : 10,000,000+\n",
      "===================================\n",
      "Fox News â€“ Breaking News, Live Video & News Alerts : 249919\n",
      "NEW - Read Newspaper, News 24h : 158196\n",
      "BBC News : 296781\n",
      "CNN Breaking US & World News : 293080\n",
      "BaBe - Read News : 355921\n",
      "detikcom - Latest & Most Complete News : 190888\n",
      "Dailyhunt (Newshunt) - Latest News, Viral Videos : 948198\n",
      "Read- Latest News, Information, Gossip and Politics : 185058\n",
      "Reddit: Social News, Trending Memes & Funny Videos : 697212\n",
      "Topbuzz: Breaking News, Videos & Funny GIFs : 175110\n",
      "Twitter : 11667403\n",
      "Pulse Nabd - World News, Urgent : 357944\n",
      "Podcast Addict : 413999\n",
      "BuzzFeed: News, Tasty, Quizzes : 131028\n",
      "World Newspapers : 185884\n",
      "The Guardian : 247992\n",
      "News Republic : 479594\n",
      "Newsroom: News Worth Sharing : 201737\n",
      "SmartNews: Breaking News Headlines : 233305\n",
      "Pocket : 256680\n",
      "BaconReader for Reddit : 103074\n",
      "Flipboard: News For Our Time : 1284018\n",
      "NewsDog - Latest News, Breaking News, Local News : 291901\n",
      "Google News : 878065\n",
      "News by The Times of India Newspaper - Latest News : 522205\n"
     ]
    }
   ],
   "source": [
    "for app in ggl_free:\n",
    "    if app[1] == 'NEWS_AND_MAGAZINES' and (app[5] == '100,000,000+'\n",
    "                                or app[5] == '50,000,000+'\n",
    "                                or app[5] == '10,000,000+'):        print(app[0],':',app[5])\n",
    "\n",
    "print(\"===================================\")\n",
    "\n",
    "for app in ggl_free:\n",
    "    if app[1] == 'NEWS_AND_MAGAZINES' and int(app[3]) > 100000:\n",
    "        print(app[0],':',app[3])"
   ]
  },
  {
   "cell_type": "markdown",
   "metadata": {},
   "source": [
    "The interesting part of the 'News and Magazines' category is that it is not currently dominated by automatic downloads such as Google News. The most reviewed and most downloaded app appears to be Fox News, a non-technology company. This is closely followed by BBC and CNN.\n",
    "\n",
    "### Conclusion\n",
    "\n",
    "Given that no major tech firm dominates this section with pre-installed apps, it could prove to be a good opportunity to develop a low-cost news aggregation app. \n",
    "\n",
    "By providing an app that simply links to other sites and streams a list of headlines and AP photos, we could limit development costs and have to opportunity for substantial downloads in the future."
   ]
  },
  {
   "cell_type": "code",
   "execution_count": null,
   "metadata": {
    "collapsed": true
   },
   "outputs": [],
   "source": []
  }
 ],
 "metadata": {
  "kernelspec": {
   "display_name": "Python 3",
   "language": "python",
   "name": "python3"
  },
  "language_info": {
   "codemirror_mode": {
    "name": "ipython",
    "version": 3
   },
   "file_extension": ".py",
   "mimetype": "text/x-python",
   "name": "python",
   "nbconvert_exporter": "python",
   "pygments_lexer": "ipython3",
   "version": "3.7.3"
  }
 },
 "nbformat": 4,
 "nbformat_minor": 2
}
