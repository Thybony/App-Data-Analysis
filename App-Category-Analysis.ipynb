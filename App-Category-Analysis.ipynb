{
 "cells": [
  {
   "cell_type": "markdown",
   "metadata": {},
   "source": [
    "# Popularity Analysis of Free-to-Play App Categories\n",
    "\n",
    "The goal of this project is to do a basic data analysis of the summary data available from the Google Play Store and the Apple iOS Mobile App Store.\n",
    "\n",
    "These data sets are available for download here:\n",
    "\n",
    " * [Google Play Store Apps](https://www.kaggle.com/lava18/google-play-store-apps/home)\n",
    " * [Apple iOS Store Apps](https://www.kaggle.com/ramamet4/app-store-apple-data-set-10k-apps/home)\n",
    " \n",
    "This project will provide basic insight into the characteristics that are correlated with higher download rates of popular apps. "
   ]
  },
  {
   "cell_type": "markdown",
   "metadata": {},
   "source": [
    "### Data Exploration"
   ]
  },
  {
   "cell_type": "code",
   "execution_count": 33,
   "metadata": {
    "collapsed": true
   },
   "outputs": [],
   "source": [
    "from csv import reader\n",
    "opened_file = open('AppleStore.csv')\n",
    "read_file = reader(opened_file)\n",
    "ios_data = list(read_file)\n",
    "ios_header = ios_data[0]\n",
    "ios_data = ios_data[1:]\n",
    "\n",
    "opened_file = open('googleplaystore.csv')\n",
    "read_file = reader(opened_file)\n",
    "ggl_data = list(read_file)\n",
    "ggl_header = ggl_data[0]\n",
    "ggl_data = ggl_data[1:]"
   ]
  },
  {
   "cell_type": "code",
   "execution_count": 34,
   "metadata": {
    "collapsed": true
   },
   "outputs": [],
   "source": [
    "# creates a function to view selected rows of the data set\n",
    "# or to print the length of the data set \n",
    "# function assumes the data set does not have a header\n",
    "\n",
    "def explore_data(dataset, start, end, print_count=False):\n",
    "    data_slice = dataset[start:end]\n",
    "    for row in data_slice:\n",
    "        print(row)\n",
    "        print('\\n') # creates space between rows\n",
    "    if print_count:\n",
    "        print('Number of rows:', len(dataset))\n",
    "        print('Number of columns', len(dataset[0]))"
   ]
  },
  {
   "cell_type": "code",
   "execution_count": 35,
   "metadata": {
    "collapsed": false
   },
   "outputs": [
    {
     "name": "stdout",
     "output_type": "stream",
     "text": [
      "['App', 'Category', 'Rating', 'Reviews', 'Size', 'Installs', 'Type', 'Price', 'Content Rating', 'Genres', 'Last Updated', 'Current Ver', 'Android Ver']\n",
      "[['Coloring book moana', 'ART_AND_DESIGN', '3.9', '967', '14M', '500,000+', 'Free', '0', 'Everyone', 'Art & Design;Pretend Play', 'January 15, 2018', '2.0.0', '4.0.3 and up'], ['U Launcher Lite – FREE Live Cool Themes, Hide Apps', 'ART_AND_DESIGN', '4.7', '87510', '8.7M', '5,000,000+', 'Free', '0', 'Everyone', 'Art & Design', 'August 1, 2018', '1.2.4', '4.0.3 and up'], ['Sketch - Draw & Paint', 'ART_AND_DESIGN', '4.5', '215644', '25M', '50,000,000+', 'Free', '0', 'Teen', 'Art & Design', 'June 8, 2018', 'Varies with device', '4.2 and up'], ['Pixel Draw - Number Art Coloring Book', 'ART_AND_DESIGN', '4.3', '967', '2.8M', '100,000+', 'Free', '0', 'Everyone', 'Art & Design;Creativity', 'June 20, 2018', '1.1', '4.4 and up']]\n"
     ]
    }
   ],
   "source": [
    "print(ggl_header)\n",
    "print(ggl_data[1:5])"
   ]
  },
  {
   "cell_type": "code",
   "execution_count": 36,
   "metadata": {
    "collapsed": false
   },
   "outputs": [
    {
     "name": "stdout",
     "output_type": "stream",
     "text": [
      "['id', 'track_name', 'size_bytes', 'currency', 'price', 'rating_count_tot', 'rating_count_ver', 'user_rating', 'user_rating_ver', 'ver', 'cont_rating', 'prime_genre', 'sup_devices.num', 'ipadSc_urls.num', 'lang.num', 'vpp_lic']\n"
     ]
    }
   ],
   "source": [
    "print(ios_header)"
   ]
  },
  {
   "cell_type": "code",
   "execution_count": 37,
   "metadata": {
    "collapsed": false
   },
   "outputs": [
    {
     "name": "stdout",
     "output_type": "stream",
     "text": [
      "['Photo Editor & Candy Camera & Grid & ScrapBook', 'ART_AND_DESIGN', '4.1', '159', '19M', '10,000+', 'Free', '0', 'Everyone', 'Art & Design', 'January 7, 2018', '1.0.0', '4.0.3 and up']\n",
      "\n",
      "\n",
      "['Coloring book moana', 'ART_AND_DESIGN', '3.9', '967', '14M', '500,000+', 'Free', '0', 'Everyone', 'Art & Design;Pretend Play', 'January 15, 2018', '2.0.0', '4.0.3 and up']\n",
      "\n",
      "\n",
      "Number of rows: 10841\n",
      "Number of columns 13\n"
     ]
    }
   ],
   "source": [
    "explore_data(ggl_data,0,2,print_count=True)"
   ]
  },
  {
   "cell_type": "code",
   "execution_count": 38,
   "metadata": {
    "collapsed": false
   },
   "outputs": [
    {
     "name": "stdout",
     "output_type": "stream",
     "text": [
      "['284882215', 'Facebook', '389879808', 'USD', '0.0', '2974676', '212', '3.5', '3.5', '95.0', '4+', 'Social Networking', '37', '1', '29', '1']\n",
      "\n",
      "\n",
      "['389801252', 'Instagram', '113954816', 'USD', '0.0', '2161558', '1289', '4.5', '4.0', '10.23', '12+', 'Photo & Video', '37', '0', '29', '1']\n",
      "\n",
      "\n",
      "Number of rows: 7197\n",
      "Number of columns 16\n"
     ]
    }
   ],
   "source": [
    "explore_data(ios_data,0,2,print_count=True)"
   ]
  },
  {
   "cell_type": "markdown",
   "metadata": {},
   "source": [
    "We need to remove one bad data entry in the Google data set that the discussion page lists as line number 10,472."
   ]
  },
  {
   "cell_type": "markdown",
   "metadata": {},
   "source": [
    "### Data Cleaning"
   ]
  },
  {
   "cell_type": "markdown",
   "metadata": {},
   "source": [
    "There is one corrupted entry in the Google Play Store data set. We remove that entry below."
   ]
  },
  {
   "cell_type": "code",
   "execution_count": 39,
   "metadata": {
    "collapsed": false
   },
   "outputs": [
    {
     "name": "stdout",
     "output_type": "stream",
     "text": [
      "10841\n",
      "10840\n"
     ]
    }
   ],
   "source": [
    "print(len(ggl_data))\n",
    "del ggl_data[10472]\n",
    "print(len(ggl_data))"
   ]
  },
  {
   "cell_type": "markdown",
   "metadata": {},
   "source": [
    "The discussion page related to the Google Play Store data shows there are some duplicate entries in that data set. We need to check for duplicates and remove every duplicate entry except for the most recent. We can use the number of reviews to determine the most recent data point. We should also check the iOS App data as well, eventhough there is nothing in the discussion page."
   ]
  },
  {
   "cell_type": "code",
   "execution_count": 40,
   "metadata": {
    "collapsed": false
   },
   "outputs": [
    {
     "name": "stdout",
     "output_type": "stream",
     "text": [
      "# of unique google apps:  9659\n",
      "# of duplicate google apps:  1181\n",
      "# of unique apple apps:  7197\n",
      "# of duplicate apple apps:  0\n"
     ]
    }
   ],
   "source": [
    "unique_apps_ggl = []\n",
    "duplicate_apps_ggl = []\n",
    "\n",
    "for i in ggl_data:\n",
    "    name = i[0]\n",
    "    if name in unique_apps_ggl:\n",
    "        duplicate_apps_ggl.append(name)\n",
    "    else:\n",
    "        unique_apps_ggl.append(name)\n",
    "        \n",
    "print('# of unique google apps: ', len(unique_apps_ggl))\n",
    "print('# of duplicate google apps: ', len(duplicate_apps_ggl))\n",
    "\n",
    "unique_apps_ios = []\n",
    "duplicate_apps_ios = []\n",
    "\n",
    "for i in ios_data:\n",
    "    name = i[0]\n",
    "    if name in unique_apps_ios:\n",
    "        duplicate_apps_ios.append(name)\n",
    "    else:\n",
    "        unique_apps_ios.append(name)\n",
    "        \n",
    "print('# of unique apple apps: ', len(unique_apps_ios))\n",
    "print('# of duplicate apple apps: ', len(duplicate_apps_ios))"
   ]
  },
  {
   "cell_type": "code",
   "execution_count": 41,
   "metadata": {
    "collapsed": false
   },
   "outputs": [
    {
     "name": "stdout",
     "output_type": "stream",
     "text": [
      "['Facebook', 'SOCIAL', '4.1', '78158306', 'Varies with device', '1,000,000,000+', 'Free', '0', 'Teen', 'Social', 'August 3, 2018', 'Varies with device', 'Varies with device']\n",
      "['Facebook', 'SOCIAL', '4.1', '78128208', 'Varies with device', '1,000,000,000+', 'Free', '0', 'Teen', 'Social', 'August 3, 2018', 'Varies with device', 'Varies with device']\n"
     ]
    }
   ],
   "source": [
    "for i in ggl_data:\n",
    "    name = i[0]\n",
    "    if name == 'Facebook':\n",
    "        print(i)"
   ]
  },
  {
   "cell_type": "markdown",
   "metadata": {},
   "source": [
    "It appears onlt the Google data set contains duplicate entries. Printing a likely duplicate shows the only column that differs is the reveiw count. Here the examples show: 78,158,306 & 78,128,208.\n",
    "\n",
    "Because there are 1,181 duplicate entries in the Google data set, after their removal the length of the data set should be reduced from 10,840 to 9,659."
   ]
  },
  {
   "cell_type": "code",
   "execution_count": 42,
   "metadata": {
    "collapsed": false
   },
   "outputs": [
    {
     "name": "stdout",
     "output_type": "stream",
     "text": [
      "9659\n"
     ]
    }
   ],
   "source": [
    "reviews_max = {}\n",
    "\n",
    "for i in ggl_data:\n",
    "    name = i[0]\n",
    "    n_reviews = float(i[3])\n",
    "    if name in reviews_max and reviews_max[name] < n_reviews:\n",
    "        reviews_max[name] = n_reviews\n",
    "    elif name not in reviews_max:\n",
    "        reviews_max.update({name:n_reviews})\n",
    "        \n",
    "print(len(reviews_max))"
   ]
  },
  {
   "cell_type": "markdown",
   "metadata": {},
   "source": [
    "Above, we created a dictionary and added entries to the reviews_max dictionary. If the name was already in the dictionary, the review count was updated to the higher amount. If they were not in the dictionary, we added the name and review count.\n",
    "\n",
    "Next, we can create a new, clean data set using an empty list and a ggl_added list to check if we've already added the data. The two lists should be the same length to make sure we've added everything properly, and they should match our expected length."
   ]
  },
  {
   "cell_type": "code",
   "execution_count": 43,
   "metadata": {
    "collapsed": false
   },
   "outputs": [
    {
     "name": "stdout",
     "output_type": "stream",
     "text": [
      "9659\n",
      "9659\n"
     ]
    }
   ],
   "source": [
    "ggl_clean = []\n",
    "ggl_added = []\n",
    "\n",
    "for i in ggl_data:\n",
    "    name = i[0]\n",
    "    n_reviews = float(i[3])\n",
    "    if n_reviews == reviews_max[name] and name not in ggl_added:\n",
    "        ggl_clean.append(i)\n",
    "        ggl_added.append(name)\n",
    "\n",
    "print(len(ggl_clean))\n",
    "print(len(ggl_added))"
   ]
  },
  {
   "cell_type": "markdown",
   "metadata": {},
   "source": [
    "Because there were no errors or duplicates in the iOS data, we can create a copy of that data set as our ios_clean variable for further use."
   ]
  },
  {
   "cell_type": "code",
   "execution_count": 44,
   "metadata": {
    "collapsed": true
   },
   "outputs": [],
   "source": [
    "ios_clean = ios_data"
   ]
  },
  {
   "cell_type": "markdown",
   "metadata": {
    "collapsed": true
   },
   "source": [
    "Both data sets also have apps that are not built primarily for dnglish users. We want to remove these entries before doing further analysis. The easiest way to do this is to remove any row of data that has text symbols not used in English. \n",
    "\n",
    "In ASCII encoding, the range of commonly used English characters is 0 - 127. Some real apps may have a couple non-standard characters or emoji (🙄), so we we only want to remove an entry if it contains more than three non-standard characters."
   ]
  },
  {
   "cell_type": "code",
   "execution_count": 45,
   "metadata": {
    "collapsed": true
   },
   "outputs": [],
   "source": [
    "def char_check(string):\n",
    "    error_count = 0\n",
    "    for char in string:\n",
    "        if ord(char) > 127:\n",
    "            error_count +=1\n",
    "            if error_count > 3:\n",
    "                return False\n",
    "    return True"
   ]
  },
  {
   "cell_type": "code",
   "execution_count": 46,
   "metadata": {
    "collapsed": false
   },
   "outputs": [
    {
     "name": "stdout",
     "output_type": "stream",
     "text": [
      "9659\n",
      "7197\n"
     ]
    }
   ],
   "source": [
    "print(len(ggl_clean))\n",
    "print(len(ios_clean))"
   ]
  },
  {
   "cell_type": "code",
   "execution_count": 47,
   "metadata": {
    "collapsed": false
   },
   "outputs": [
    {
     "name": "stdout",
     "output_type": "stream",
     "text": [
      "6183\n",
      "9614\n"
     ]
    }
   ],
   "source": [
    "ios_english = []\n",
    "ggl_english = []\n",
    "\n",
    "for row in ggl_clean:\n",
    "    name = row[0]\n",
    "    if char_check(name) == True:\n",
    "        ggl_english.append(row)\n",
    "        \n",
    "for row in ios_clean:\n",
    "    name = row[1]\n",
    "    if char_check(name) == True:\n",
    "        ios_english.append(row)\n",
    "        \n",
    "print(len(ios_english))\n",
    "print(len(ggl_english))"
   ]
  },
  {
   "cell_type": "markdown",
   "metadata": {},
   "source": [
    "Lastly, we want to isolate all the free apps to be our final data set."
   ]
  },
  {
   "cell_type": "code",
   "execution_count": 48,
   "metadata": {
    "collapsed": false
   },
   "outputs": [
    {
     "name": "stdout",
     "output_type": "stream",
     "text": [
      "3222\n",
      "8863\n"
     ]
    }
   ],
   "source": [
    "ios_free = []\n",
    "ggl_free = []\n",
    "\n",
    "for row in ggl_english:\n",
    "    price = row[6]\n",
    "    if price == 'Free':\n",
    "        ggl_free.append(row)\n",
    "        \n",
    "for row in ios_english:\n",
    "    price = row[4]\n",
    "    if price == '0.0':\n",
    "        ios_free.append(row)\n",
    "        \n",
    "print(len(ios_free))\n",
    "print(len(ggl_free))"
   ]
  },
  {
   "cell_type": "markdown",
   "metadata": {},
   "source": [
    "We should now have two data sets. Each containing the respective iOS and Google Play apps that are now free from errors, duplicates, non-english apps, and are free."
   ]
  },
  {
   "cell_type": "markdown",
   "metadata": {
    "collapsed": true
   },
   "source": [
    "### App Optimization - Frequency Tables"
   ]
  },
  {
   "cell_type": "markdown",
   "metadata": {},
   "source": [
    "To optimize an app we need to figure out what works in the app stores. Below, we build frequency tables for a few data catagories. Specifically, the 'Genres' and 'Category' columns from the Google Play data set."
   ]
  },
  {
   "cell_type": "code",
   "execution_count": 49,
   "metadata": {
    "collapsed": true
   },
   "outputs": [],
   "source": [
    "def freq_table(dataset, index):\n",
    "    freq_dict = {}\n",
    "    percent_dict = {}\n",
    "    num_entries = 0\n",
    "\n",
    "    for row in dataset:\n",
    "        num_entries += 1\n",
    "        if row[index] in freq_dict:\n",
    "            freq_dict[row[index]] += 1\n",
    "        else:\n",
    "            freq_dict[row[index]] = 1\n",
    "            \n",
    "    for i in freq_dict:\n",
    "        percent = (float(freq_dict[i]) / num_entries)\n",
    "        percent_dict[i] = percent * 100\n",
    "    return percent_dict"
   ]
  },
  {
   "cell_type": "markdown",
   "metadata": {},
   "source": [
    "Next we need to view the frequency table in decending order."
   ]
  },
  {
   "cell_type": "code",
   "execution_count": 53,
   "metadata": {
    "collapsed": false
   },
   "outputs": [],
   "source": [
    "def display_table(dataset, index):\n",
    "    table = freq_table(dataset, index)\n",
    "    table_disp = []\n",
    "    for key in table:\n",
    "        new_tuple = (table[key], key)\n",
    "        table_disp.append(new_tuple)\n",
    "        \n",
    "    table_sorted = sorted(table_disp, reverse = True)\n",
    "    for i in table_sorted:\n",
    "        print(i)"
   ]
  },
  {
   "cell_type": "markdown",
   "metadata": {},
   "source": [
    "Lets look at some summary data:"
   ]
  },
  {
   "cell_type": "code",
   "execution_count": 64,
   "metadata": {
    "collapsed": false
   },
   "outputs": [
    {
     "name": "stdout",
     "output_type": "stream",
     "text": [
      "(18.898792733837304, 'FAMILY')\n",
      "(9.725826469592688, 'GAME')\n",
      "(8.462146000225657, 'TOOLS')\n",
      "(4.592124562789123, 'BUSINESS')\n",
      "(3.9038700214374367, 'LIFESTYLE')\n",
      "(3.8925871601038025, 'PRODUCTIVITY')\n",
      "(3.7007785174320205, 'FINANCE')\n",
      "(3.5315355974275078, 'MEDICAL')\n",
      "(3.396141261423897, 'SPORTS')\n",
      "(3.317161232088458, 'PERSONALIZATION')\n",
      "(3.2381812027530184, 'COMMUNICATION')\n",
      "(3.0802211440821394, 'HEALTH_AND_FITNESS')\n",
      "(2.944826808078529, 'PHOTOGRAPHY')\n",
      "(2.798149610741284, 'NEWS_AND_MAGAZINES')\n",
      "(2.6627552747376737, 'SOCIAL')\n",
      "(2.335552296062281, 'TRAVEL_AND_LOCAL')\n",
      "(2.245289405393208, 'SHOPPING')\n",
      "(2.1437436533904997, 'BOOKS_AND_REFERENCE')\n",
      "(1.8616721200496444, 'DATING')\n",
      "(1.7939749520478394, 'VIDEO_PLAYERS')\n",
      "(1.399074805370642, 'MAPS_AND_NAVIGATION')\n",
      "(1.241114746699763, 'FOOD_AND_DRINK')\n",
      "(1.1621347173643235, 'EDUCATION')\n",
      "(0.9590432133589079, 'ENTERTAINMENT')\n",
      "(0.9364774906916393, 'LIBRARIES_AND_DEMO')\n",
      "(0.9251946293580051, 'AUTO_AND_VEHICLES')\n",
      "(0.8236488773552973, 'HOUSE_AND_HOME')\n",
      "(0.8010831546880289, 'WEATHER')\n",
      "(0.7108202640189552, 'EVENTS')\n",
      "(0.6544059573507841, 'PARENTING')\n",
      "(0.6431230960171499, 'ART_AND_DESIGN')\n",
      "(0.6205573733498815, 'COMICS')\n",
      "(0.5979916506826132, 'BEAUTY')\n"
     ]
    }
   ],
   "source": [
    "display_table(ggl_free, 1)\n",
    "# Google Play 'Category' column"
   ]
  },
  {
   "cell_type": "code",
   "execution_count": 63,
   "metadata": {
    "collapsed": false
   },
   "outputs": [
    {
     "name": "stdout",
     "output_type": "stream",
     "text": [
      "(58.16263190564867, 'Games')\n",
      "(7.883302296710118, 'Entertainment')\n",
      "(4.9658597144630665, 'Photo & Video')\n",
      "(3.662321539416512, 'Education')\n",
      "(3.2898820608317814, 'Social Networking')\n",
      "(2.60707635009311, 'Shopping')\n",
      "(2.5139664804469275, 'Utilities')\n",
      "(2.1415270018621975, 'Sports')\n",
      "(2.0484171322160147, 'Music')\n",
      "(2.0173805090006205, 'Health & Fitness')\n",
      "(1.7380509000620732, 'Productivity')\n",
      "(1.5828677839851024, 'Lifestyle')\n",
      "(1.3345747982619491, 'News')\n",
      "(1.2414649286157666, 'Travel')\n",
      "(1.1173184357541899, 'Finance')\n",
      "(0.8690254500310366, 'Weather')\n",
      "(0.8069522036002483, 'Food & Drink')\n",
      "(0.5586592178770949, 'Reference')\n",
      "(0.5276225946617008, 'Business')\n",
      "(0.4345127250155183, 'Book')\n",
      "(0.186219739292365, 'Navigation')\n",
      "(0.186219739292365, 'Medical')\n",
      "(0.12414649286157665, 'Catalogs')\n"
     ]
    }
   ],
   "source": [
    "display_table(ios_free, -5)\n",
    "#iOS 'prime_genre' column"
   ]
  },
  {
   "cell_type": "markdown",
   "metadata": {},
   "source": [
    "It seems like games and entertainment apps are the most popular in both the iOS and Google Play store. Practial applications less so. However, all we've done is reveal the most commonly published apps, not the ones with the most users. We can find out the average number of downloads per category to draw a better conclusion.\n",
    "\n",
    "The iOS store doesn't list a download count, and the Google Play store only lists ranges, so we're going to use the number of ratings as a proxy."
   ]
  },
  {
   "cell_type": "code",
   "execution_count": 72,
   "metadata": {
    "collapsed": false
   },
   "outputs": [
    {
     "name": "stdout",
     "output_type": "stream",
     "text": [
      "News : 21248\n",
      "Medical : 612\n",
      "Shopping : 26920\n",
      "Travel : 28244\n",
      "Utilities : 18684\n",
      "Education : 7004\n",
      "Weather : 52280\n",
      "Catalogs : 4004\n",
      "Health & Fitness : 23298\n",
      "Book : 39758\n",
      "Music : 57327\n",
      "Food & Drink : 33334\n",
      "Finance : 31468\n",
      "Social Networking : 71548\n",
      "Productivity : 21028\n",
      "Business : 7491\n",
      "Photo & Video : 28442\n",
      "Lifestyle : 16486\n",
      "Reference : 74942\n",
      "Navigation : 86090\n",
      "Entertainment : 14030\n",
      "Sports : 23009\n",
      "Games : 22789\n"
     ]
    }
   ],
   "source": [
    "ios_genres = freq_table(ios_free, -5)\n",
    "\n",
    "for genre in ios_genres:\n",
    "    sum_installs = 0\n",
    "    num_apps = 0\n",
    "    for row in ios_free:\n",
    "        if row[-5] == genre:\n",
    "            installs = float(row[5])\n",
    "            sum_installs += installs\n",
    "            num_apps += 1\n",
    "    avg_installs = (sum_installs / num_apps)\n",
    "    print(genre,\":\",round(avg_installs))"
   ]
  },
  {
   "cell_type": "code",
   "execution_count": 76,
   "metadata": {
    "collapsed": false
   },
   "outputs": [
    {
     "name": "stdout",
     "output_type": "stream",
     "text": [
      "EDUCATION : 56293\n",
      "PARENTING : 16379\n",
      "HOUSE_AND_HOME : 26435\n",
      "COMMUNICATION : 995608\n",
      "ART_AND_DESIGN : 24699\n",
      "SHOPPING : 223887\n",
      "PHOTOGRAPHY : 404081\n",
      "BEAUTY : 7476\n",
      "TRAVEL_AND_LOCAL : 129484\n",
      "PRODUCTIVITY : 160635\n",
      "LIFESTYLE : 33922\n",
      "FAMILY : 113211\n",
      "MAPS_AND_NAVIGATION : 142860\n",
      "DATING : 21953\n",
      "LIBRARIES_AND_DEMO : 10926\n",
      "VIDEO_PLAYERS : 425350\n",
      "GAME : 683524\n",
      "AUTO_AND_VEHICLES : 14140\n",
      "FINANCE : 38536\n",
      "SOCIAL : 965831\n",
      "COMICS : 42586\n",
      "HEALTH_AND_FITNESS : 78095\n",
      "TOOLS : 305733\n",
      "BUSINESS : 24240\n",
      "MEDICAL : 3730\n",
      "NEWS_AND_MAGAZINES : 93088\n",
      "ENTERTAINMENT : 301752\n",
      "FOOD_AND_DRINK : 57479\n",
      "EVENTS : 2556\n",
      "PERSONALIZATION : 181122\n",
      "BOOKS_AND_REFERENCE : 87995\n",
      "SPORTS : 116939\n",
      "WEATHER : 171251\n"
     ]
    }
   ],
   "source": [
    "ggl_genres = freq_table(ggl_free, 1)\n",
    "\n",
    "for genre in ggl_genres:\n",
    "    sum_installs = 0\n",
    "    num_apps = 0\n",
    "    for row in ggl_free:\n",
    "        if row[1] == genre:\n",
    "            installs = float(row[3])\n",
    "            sum_installs += installs\n",
    "            num_apps += 1\n",
    "    avg_installs = (sum_installs / num_apps)\n",
    "    print(genre,\":\",round(avg_installs))"
   ]
  },
  {
   "cell_type": "markdown",
   "metadata": {},
   "source": [
    "Another method for the Google Play store is to use the downloads numbers as they are and check against our previous results using the ratings."
   ]
  },
  {
   "cell_type": "code",
   "execution_count": 77,
   "metadata": {
    "collapsed": false
   },
   "outputs": [
    {
     "name": "stdout",
     "output_type": "stream",
     "text": [
      "EDUCATION : 1833495\n",
      "PARENTING : 542604\n",
      "HOUSE_AND_HOME : 1331541\n",
      "COMMUNICATION : 38456119\n",
      "ART_AND_DESIGN : 1986335\n",
      "SHOPPING : 7036877\n",
      "PHOTOGRAPHY : 17840110\n",
      "BEAUTY : 513152\n",
      "TRAVEL_AND_LOCAL : 13984078\n",
      "PRODUCTIVITY : 16787331\n",
      "LIFESTYLE : 1437816\n",
      "FAMILY : 3697848\n",
      "MAPS_AND_NAVIGATION : 4056942\n",
      "DATING : 854029\n",
      "LIBRARIES_AND_DEMO : 638504\n",
      "VIDEO_PLAYERS : 24727872\n",
      "GAME : 15588016\n",
      "AUTO_AND_VEHICLES : 647318\n",
      "FINANCE : 1387692\n",
      "SOCIAL : 23253652\n",
      "COMICS : 817657\n",
      "HEALTH_AND_FITNESS : 4188822\n",
      "TOOLS : 10801391\n",
      "BUSINESS : 1712290\n",
      "MEDICAL : 120551\n",
      "NEWS_AND_MAGAZINES : 9549178\n",
      "ENTERTAINMENT : 11640706\n",
      "FOOD_AND_DRINK : 1924898\n",
      "EVENTS : 253542\n",
      "PERSONALIZATION : 5201483\n",
      "BOOKS_AND_REFERENCE : 8767812\n",
      "SPORTS : 3638640\n",
      "WEATHER : 5074486\n"
     ]
    }
   ],
   "source": [
    "ggl_genres = freq_table(ggl_free, 1)\n",
    "\n",
    "for genre in ggl_genres:\n",
    "    sum_installs = 0\n",
    "    num_apps = 0\n",
    "    for row in ggl_free:\n",
    "        if row[1] == genre:\n",
    "            installs = row[5]\n",
    "            installs = installs.replace('+','')\n",
    "            installs = installs.replace(',','')\n",
    "            sum_installs += int(installs)\n",
    "            num_apps += 1\n",
    "    avg_installs = (sum_installs / num_apps)\n",
    "    print(genre,\":\",round(avg_installs))"
   ]
  },
  {
   "cell_type": "markdown",
   "metadata": {},
   "source": [
    "This generally confirms the previous analysis. The number of ratings are different, but the general order and magnitude are the same.\n",
    "\n",
    "Let's take a look at the most popular apps in a couple categories."
   ]
  },
  {
   "cell_type": "markdown",
   "metadata": {},
   "source": [
    "### Category Analysis\n",
    "\n",
    "Again, for the Google Play Store there are two ways to go about finding the most popular apps in each category."
   ]
  },
  {
   "cell_type": "code",
   "execution_count": 79,
   "metadata": {
    "collapsed": false
   },
   "outputs": [
    {
     "name": "stdout",
     "output_type": "stream",
     "text": [
      "WhatsApp Messenger : 1,000,000,000+\n",
      "Messenger – Text and Video Chat for Free : 1,000,000,000+\n",
      "Skype - free IM & video calls : 1,000,000,000+\n",
      "Google Chrome: Fast & Secure : 1,000,000,000+\n",
      "Gmail : 1,000,000,000+\n",
      "Hangouts : 1,000,000,000+\n"
     ]
    }
   ],
   "source": [
    "for app in ggl_free:\n",
    "    if app[1] == 'COMMUNICATION' and (app[5] == '1,000,000,000+'\n",
    "                                or app[5] == '500,000,000'\n",
    "                                or app[5] == '100,000,000'):\n",
    "        print(app[0],':',app[5])"
   ]
  },
  {
   "cell_type": "code",
   "execution_count": 82,
   "metadata": {
    "collapsed": false
   },
   "outputs": [
    {
     "name": "stdout",
     "output_type": "stream",
     "text": [
      "WhatsApp Messenger : 69119316\n",
      "Messenger – Text and Video Chat for Free : 56646578\n",
      "Skype - free IM & video calls : 10484169\n",
      "LINE: Free Calls & Messages : 10790289\n",
      "UC Browser - Fast Download Private & Secure : 17714850\n",
      "Viber Messenger : 11335481\n",
      "BBM - Free Calls & Messages : 12843436\n"
     ]
    }
   ],
   "source": [
    "for app in ggl_free:\n",
    "    if app[1] == 'COMMUNICATION' and int(app[3]) > 10000000:\n",
    "        print(app[0],':',app[3])\n",
    "    "
   ]
  },
  {
   "cell_type": "markdown",
   "metadata": {},
   "source": [
    "The above two sections attempt to pull the most popular apps in the Communication category. What we see is there are some Google apps that have a lot of downloads, but do not have as many total reveiws as some other apps. This could be due to them being automatic downloads by the phone manufacturer or retailer.\n",
    "\n",
    "Either way, Communication apps seems like a crowded and highly competitive market."
   ]
  },
  {
   "cell_type": "code",
   "execution_count": 96,
   "metadata": {
    "collapsed": false
   },
   "outputs": [
    {
     "name": "stdout",
     "output_type": "stream",
     "text": [
      "K PLUS : 10,000,000+\n",
      "Mobile Bancomer : 10,000,000+\n",
      "CASHIER : 10,000,000+\n",
      "Itau bank : 10,000,000+\n",
      "Cash App : 10,000,000+\n",
      "İşCep : 10,000,000+\n",
      "Bank of Brazil : 10,000,000+\n",
      "PayPal : 50,000,000+\n",
      "Bank of America Mobile Banking : 10,000,000+\n",
      "Wells Fargo Mobile : 10,000,000+\n",
      "Capital One® Mobile : 10,000,000+\n",
      "Chase Mobile : 10,000,000+\n",
      "HDFC Bank MobileBanking : 10,000,000+\n",
      "Google Pay : 100,000,000+\n",
      "Credit Karma : 10,000,000+\n",
      "===================================\n",
      "K PLUS : 124424\n",
      "Mobile Bancomer : 278082\n",
      "SCB EASY : 112656\n",
      "CASHIER : 335738\n",
      "Itau bank : 957973\n",
      "Nubank : 130582\n",
      "IKO : 167168\n",
      "VTB-Online : 138371\n",
      "Banorte Movil : 111632\n",
      "İşCep : 381788\n",
      "TrueMoney Wallet : 199684\n",
      "Bank of Brazil : 1336246\n",
      "Money Manager Expense & Budget : 134564\n",
      "Monefy - Money Manager : 111254\n",
      "Mobills: Budget Planner : 161440\n",
      "MetaTrader 4 : 260547\n",
      "Stocks, Forex, Bitcoin, Ethereum: Portfolio & News : 157505\n",
      "Yahoo Finance : 135952\n",
      "Money Lover: Expense Tracker, Budget Planner : 126447\n",
      "PayPal : 659760\n",
      "USAA Mobile : 100997\n",
      "Bank of America Mobile Banking : 341090\n",
      "Wells Fargo Mobile : 250719\n",
      "Capital One® Mobile : 510401\n",
      "Chase Mobile : 1374549\n",
      "HDFC Bank MobileBanking : 208463\n",
      "Google Pay : 348132\n",
      "Mint: Budget, Bills, Finance : 129305\n",
      "Credit Karma : 706618\n",
      "Moneycontrol – Stocks, Sensex, Mutual Funds, IPO : 281635\n"
     ]
    }
   ],
   "source": [
    "for app in ggl_free:\n",
    "    if app[1] == 'FINANCE' and (app[5] == '100,000,000+'\n",
    "                                or app[5] == '50,000,000+'\n",
    "                                or app[5] == '10,000,000+'):        print(app[0],':',app[5])\n",
    "\n",
    "print(\"===================================\")\n",
    "\n",
    "for app in ggl_free:\n",
    "    if app[1] == 'FINANCE' and int(app[3]) > 100000:\n",
    "        print(app[0],':',app[3])"
   ]
  },
  {
   "cell_type": "markdown",
   "metadata": {},
   "source": [
    "Finance apps seem to be mostly banking apps of simlar popularities. Without a connected banking operations, it seems unlikely we could develop a finance app (such as a retirement planner) that would be highly downloaded."
   ]
  },
  {
   "cell_type": "code",
   "execution_count": 97,
   "metadata": {
    "collapsed": false
   },
   "outputs": [
    {
     "name": "stdout",
     "output_type": "stream",
     "text": [
      "Fox News – Breaking News, Live Video & News Alerts : 10,000,000+\n",
      "NEW - Read Newspaper, News 24h : 10,000,000+\n",
      "BBC News : 10,000,000+\n",
      "CNN Breaking US & World News : 10,000,000+\n",
      "BaBe - Read News : 10,000,000+\n",
      "detikcom - Latest & Most Complete News : 10,000,000+\n",
      "Dailyhunt (Newshunt) - Latest News, Viral Videos : 50,000,000+\n",
      "Read- Latest News, Information, Gossip and Politics : 10,000,000+\n",
      "Reddit: Social News, Trending Memes & Funny Videos : 10,000,000+\n",
      "Opera News - Trending news and videos : 10,000,000+\n",
      "Topbuzz: Breaking News, Videos & Funny GIFs : 10,000,000+\n",
      "Pulse Nabd - World News, Urgent : 10,000,000+\n",
      "NYTimes - Latest News : 10,000,000+\n",
      "Bloomberg: Market & Financial News : 10,000,000+\n",
      "News Republic : 10,000,000+\n",
      "Newsroom: News Worth Sharing : 10,000,000+\n",
      "SmartNews: Breaking News Headlines : 10,000,000+\n",
      "Updates for Samsung - Android Update Versions : 10,000,000+\n",
      "Pocket : 10,000,000+\n",
      "NewsDog - Latest News, Breaking News, Local News : 10,000,000+\n",
      "News by The Times of India Newspaper - Latest News : 10,000,000+\n",
      "===================================\n",
      "Fox News – Breaking News, Live Video & News Alerts : 249919\n",
      "NEW - Read Newspaper, News 24h : 158196\n",
      "BBC News : 296781\n",
      "CNN Breaking US & World News : 293080\n",
      "BaBe - Read News : 355921\n",
      "detikcom - Latest & Most Complete News : 190888\n",
      "Dailyhunt (Newshunt) - Latest News, Viral Videos : 948198\n",
      "Read- Latest News, Information, Gossip and Politics : 185058\n",
      "Reddit: Social News, Trending Memes & Funny Videos : 697212\n",
      "Topbuzz: Breaking News, Videos & Funny GIFs : 175110\n",
      "Twitter : 11667403\n",
      "Pulse Nabd - World News, Urgent : 357944\n",
      "Podcast Addict : 413999\n",
      "BuzzFeed: News, Tasty, Quizzes : 131028\n",
      "World Newspapers : 185884\n",
      "The Guardian : 247992\n",
      "News Republic : 479594\n",
      "Newsroom: News Worth Sharing : 201737\n",
      "SmartNews: Breaking News Headlines : 233305\n",
      "Pocket : 256680\n",
      "BaconReader for Reddit : 103074\n",
      "Flipboard: News For Our Time : 1284018\n",
      "NewsDog - Latest News, Breaking News, Local News : 291901\n",
      "Google News : 878065\n",
      "News by The Times of India Newspaper - Latest News : 522205\n"
     ]
    }
   ],
   "source": [
    "for app in ggl_free:\n",
    "    if app[1] == 'NEWS_AND_MAGAZINES' and (app[5] == '100,000,000+'\n",
    "                                or app[5] == '50,000,000+'\n",
    "                                or app[5] == '10,000,000+'):        print(app[0],':',app[5])\n",
    "\n",
    "print(\"===================================\")\n",
    "\n",
    "for app in ggl_free:\n",
    "    if app[1] == 'NEWS_AND_MAGAZINES' and int(app[3]) > 100000:\n",
    "        print(app[0],':',app[3])"
   ]
  },
  {
   "cell_type": "markdown",
   "metadata": {},
   "source": [
    "The interesting part of the 'News and Magazines' category is that it is not currently dominated by automatic downloads such as Google News. The most reviewed and most downloaded app appears to be Fox News, a non-technology company. This is closely followed by BBC and CNN.\n",
    "\n",
    "### Conclusion\n",
    "\n",
    "Given that no major tech firm dominates this section with pre-installed apps, it could prove to be a good opportunity to develop a low-cost news aggregation app. \n",
    "\n",
    "By providing an app that simply links to other sites and streams a list of headlines and AP photos, we could limit development costs and have to opportunity for substantial downloads in the future."
   ]
  },
  {
   "cell_type": "code",
   "execution_count": null,
   "metadata": {
    "collapsed": true
   },
   "outputs": [],
   "source": []
  }
 ],
 "metadata": {
  "kernelspec": {
   "display_name": "Python 3",
   "language": "python",
   "name": "python3"
  },
  "language_info": {
   "codemirror_mode": {
    "name": "ipython",
    "version": 3
   },
   "file_extension": ".py",
   "mimetype": "text/x-python",
   "name": "python",
   "nbconvert_exporter": "python",
   "pygments_lexer": "ipython3",
   "version": "3.4.3"
  }
 },
 "nbformat": 4,
 "nbformat_minor": 2
}
